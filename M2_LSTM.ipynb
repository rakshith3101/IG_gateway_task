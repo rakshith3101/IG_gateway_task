{
  "nbformat": 4,
  "nbformat_minor": 0,
  "metadata": {
    "colab": {
      "provenance": [],
      "authorship_tag": "ABX9TyMPLwnVA3C9zhDjMwAxIouu",
      "include_colab_link": true
    },
    "kernelspec": {
      "name": "python3",
      "display_name": "Python 3"
    },
    "language_info": {
      "name": "python"
    }
  },
  "cells": [
    {
      "cell_type": "markdown",
      "metadata": {
        "id": "view-in-github",
        "colab_type": "text"
      },
      "source": [
        "<a href=\"https://colab.research.google.com/github/rakshith3101/IG_gateway_task/blob/main/M2_LSTM.ipynb\" target=\"_parent\"><img src=\"https://colab.research.google.com/assets/colab-badge.svg\" alt=\"Open In Colab\"/></a>"
      ]
    },
    {
      "cell_type": "code",
      "execution_count": 1,
      "metadata": {
        "colab": {
          "base_uri": "https://localhost:8080/"
        },
        "id": "qeSh_SJsR6r6",
        "outputId": "7d62ca0c-fe6b-4abc-ad94-84efab2f3dd7"
      },
      "outputs": [
        {
          "output_type": "stream",
          "name": "stdout",
          "text": [
            "--2024-03-10 10:40:16--  http://saifmohammad.com/WebDocs/EmoInt%20Train%20Data/anger-ratings-0to1.train.txt\n",
            "Resolving saifmohammad.com (saifmohammad.com)... 192.185.17.122\n",
            "Connecting to saifmohammad.com (saifmohammad.com)|192.185.17.122|:80... connected.\n",
            "HTTP request sent, awaiting response... 200 OK\n",
            "Length: 95686 (93K) [text/plain]\n",
            "Saving to: ‘anger-ratings-0to1.train.txt’\n",
            "\n",
            "anger-ratings-0to1. 100%[===================>]  93.44K  --.-KB/s    in 0.1s    \n",
            "\n",
            "2024-03-10 10:40:17 (680 KB/s) - ‘anger-ratings-0to1.train.txt’ saved [95686/95686]\n",
            "\n",
            "--2024-03-10 10:40:17--  http://saifmohammad.com/WebDocs/EmoInt%20Train%20Data/fear-ratings-0to1.train.txt\n",
            "Reusing existing connection to saifmohammad.com:80.\n",
            "HTTP request sent, awaiting response... 200 OK\n",
            "Length: 133186 (130K) [text/plain]\n",
            "Saving to: ‘fear-ratings-0to1.train.txt’\n",
            "\n",
            "fear-ratings-0to1.t 100%[===================>] 130.06K  --.-KB/s    in 0.05s   \n",
            "\n",
            "2024-03-10 10:40:17 (2.78 MB/s) - ‘fear-ratings-0to1.train.txt’ saved [133186/133186]\n",
            "\n",
            "--2024-03-10 10:40:17--  http://saifmohammad.com/WebDocs/EmoInt%20Train%20Data/joy-ratings-0to1.train.txt\n",
            "Reusing existing connection to saifmohammad.com:80.\n",
            "HTTP request sent, awaiting response... 200 OK\n",
            "Length: 92266 (90K) [text/plain]\n",
            "Saving to: ‘joy-ratings-0to1.train.txt’\n",
            "\n",
            "joy-ratings-0to1.tr 100%[===================>]  90.10K  --.-KB/s    in 0s      \n",
            "\n",
            "2024-03-10 10:40:17 (501 MB/s) - ‘joy-ratings-0to1.train.txt’ saved [92266/92266]\n",
            "\n",
            "--2024-03-10 10:40:17--  http://saifmohammad.com/WebDocs/EmoInt%20Train%20Data/sadness-ratings-0to1.train.txt\n",
            "Reusing existing connection to saifmohammad.com:80.\n",
            "HTTP request sent, awaiting response... 200 OK\n",
            "Length: 92977 (91K) [text/plain]\n",
            "Saving to: ‘sadness-ratings-0to1.train.txt’\n",
            "\n",
            "sadness-ratings-0to 100%[===================>]  90.80K  --.-KB/s    in 0s      \n",
            "\n",
            "2024-03-10 10:40:17 (496 MB/s) - ‘sadness-ratings-0to1.train.txt’ saved [92977/92977]\n",
            "\n",
            "FINISHED --2024-03-10 10:40:17--\n",
            "Total wall clock time: 0.5s\n",
            "Downloaded: 4 files, 404K in 0.2s (2.15 MB/s)\n",
            "--2024-03-10 10:40:17--  http://saifmohammad.com/WebDocs/EmoInt%20Test%20Data/anger-ratings-0to1.test.target.txt\n",
            "Resolving saifmohammad.com (saifmohammad.com)... 192.185.17.122\n",
            "Connecting to saifmohammad.com (saifmohammad.com)|192.185.17.122|:80... connected.\n",
            "HTTP request sent, awaiting response... 200 OK\n",
            "Length: 86506 (84K) [text/plain]\n",
            "Saving to: ‘anger-ratings-0to1.test.target.txt’\n",
            "\n",
            "anger-ratings-0to1. 100%[===================>]  84.48K  --.-KB/s    in 0.09s   \n",
            "\n",
            "2024-03-10 10:40:17 (930 KB/s) - ‘anger-ratings-0to1.test.target.txt’ saved [86506/86506]\n",
            "\n",
            "--2024-03-10 10:40:17--  http://saifmohammad.com/WebDocs/EmoInt%20Test%20Data/fear-ratings-0to1.test.target.txt\n",
            "Reusing existing connection to saifmohammad.com:80.\n",
            "HTTP request sent, awaiting response... 200 OK\n",
            "Length: 113260 (111K) [text/plain]\n",
            "Saving to: ‘fear-ratings-0to1.test.target.txt’\n",
            "\n",
            "fear-ratings-0to1.t 100%[===================>] 110.61K  --.-KB/s    in 0.04s   \n",
            "\n",
            "2024-03-10 10:40:17 (2.41 MB/s) - ‘fear-ratings-0to1.test.target.txt’ saved [113260/113260]\n",
            "\n",
            "--2024-03-10 10:40:17--  http://saifmohammad.com/WebDocs/EmoInt%20Test%20Data/joy-ratings-0to1.test.target.txt\n",
            "Reusing existing connection to saifmohammad.com:80.\n",
            "HTTP request sent, awaiting response... 200 OK\n",
            "Length: 79311 (77K) [text/plain]\n",
            "Saving to: ‘joy-ratings-0to1.test.target.txt’\n",
            "\n",
            "joy-ratings-0to1.te 100%[===================>]  77.45K  --.-KB/s    in 0s      \n",
            "\n",
            "2024-03-10 10:40:17 (504 MB/s) - ‘joy-ratings-0to1.test.target.txt’ saved [79311/79311]\n",
            "\n",
            "--2024-03-10 10:40:17--  http://saifmohammad.com/WebDocs/EmoInt%20Test%20Data/sadness-ratings-0to1.test.target.txt\n",
            "Reusing existing connection to saifmohammad.com:80.\n",
            "HTTP request sent, awaiting response... 200 OK\n",
            "Length: 78233 (76K) [text/plain]\n",
            "Saving to: ‘sadness-ratings-0to1.test.target.txt’\n",
            "\n",
            "sadness-ratings-0to 100%[===================>]  76.40K  --.-KB/s    in 0s      \n",
            "\n",
            "2024-03-10 10:40:17 (462 MB/s) - ‘sadness-ratings-0to1.test.target.txt’ saved [78233/78233]\n",
            "\n",
            "FINISHED --2024-03-10 10:40:17--\n",
            "Total wall clock time: 0.4s\n",
            "Downloaded: 4 files, 349K in 0.1s (2.51 MB/s)\n"
          ]
        }
      ],
      "source": [
        "!wget http://saifmohammad.com/WebDocs/EmoInt%20Train%20Data/anger-ratings-0to1.train.txt http://saifmohammad.com/WebDocs/EmoInt%20Train%20Data/fear-ratings-0to1.train.txt http://saifmohammad.com/WebDocs/EmoInt%20Train%20Data/joy-ratings-0to1.train.txt http://saifmohammad.com/WebDocs/EmoInt%20Train%20Data/sadness-ratings-0to1.train.txt\n",
        "!wget http://saifmohammad.com/WebDocs/EmoInt%20Test%20Data/anger-ratings-0to1.test.target.txt http://saifmohammad.com/WebDocs/EmoInt%20Test%20Data/fear-ratings-0to1.test.target.txt http://saifmohammad.com/WebDocs/EmoInt%20Test%20Data/joy-ratings-0to1.test.target.txt  http://saifmohammad.com/WebDocs/EmoInt%20Test%20Data/sadness-ratings-0to1.test.target.txt"
      ]
    },
    {
      "cell_type": "code",
      "source": [
        "#train_data\n",
        "import io\n",
        "file_content=['/content/anger-ratings-0to1.train.txt','/content/fear-ratings-0to1.train.txt','/content/joy-ratings-0to1.train.txt','/content/sadness-ratings-0to1.train.txt']\n",
        "output_file='/content/training_data.txt'\n",
        "with open(output_file, 'w') as output:\n",
        "    # Write the header line to the output file\n",
        "    output.write(\"id\\ttweet\\tlabel\\tintensity\\n\")\n",
        "\n",
        "    # Loop through each input file\n",
        "    for file_name in file_content:\n",
        "        # Open the input file in read mode\n",
        "        with open(file_name, 'r') as input_file:\n",
        "            # Skip the header line in the input file\n",
        "            next(input_file)\n",
        "\n",
        "            # Copy the content of the input file to the output file\n",
        "            output.write(input_file.read())\n",
        "\n",
        "print(f\"Combined data from {', '.join(file_content)} into {output_file}.\")"
      ],
      "metadata": {
        "colab": {
          "base_uri": "https://localhost:8080/"
        },
        "id": "1IbpEfWfSADC",
        "outputId": "2275edbe-d487-4795-e8d9-a72ee3895738"
      },
      "execution_count": 2,
      "outputs": [
        {
          "output_type": "stream",
          "name": "stdout",
          "text": [
            "Combined data from /content/anger-ratings-0to1.train.txt, /content/fear-ratings-0to1.train.txt, /content/joy-ratings-0to1.train.txt, /content/sadness-ratings-0to1.train.txt into /content/training_data.txt.\n"
          ]
        }
      ]
    },
    {
      "cell_type": "code",
      "source": [
        "#test_data\n",
        "import io\n",
        "file_content=['/content/anger-ratings-0to1.test.target.txt','/content/fear-ratings-0to1.test.target.txt','/content/joy-ratings-0to1.test.target.txt','/content/sadness-ratings-0to1.test.target.txt']\n",
        "output_file='/content/test_data.txt'\n",
        "with open(output_file, 'w') as output:\n",
        "    # Write the header line to the output file\n",
        "    output.write(\"id\\ttweet\\tlabel\\tintensity\\n\")\n",
        "\n",
        "    # Loop through each input file\n",
        "    for file_name in file_content:\n",
        "        # Open the input file in read mode\n",
        "        with open(file_name, 'r') as input_file:\n",
        "            # Skip the header line in the input file\n",
        "            next(input_file)\n",
        "\n",
        "            # Copy the content of the input file to the output file\n",
        "            output.write(input_file.read())\n",
        "\n",
        "print(f\"Combined data from {', '.join(file_content)} into {output_file}.\")"
      ],
      "metadata": {
        "colab": {
          "base_uri": "https://localhost:8080/"
        },
        "id": "zT7UQoVISBpT",
        "outputId": "c2dc148c-e357-4ed9-e242-6a9ec6973fd7"
      },
      "execution_count": 3,
      "outputs": [
        {
          "output_type": "stream",
          "name": "stdout",
          "text": [
            "Combined data from /content/anger-ratings-0to1.test.target.txt, /content/fear-ratings-0to1.test.target.txt, /content/joy-ratings-0to1.test.target.txt, /content/sadness-ratings-0to1.test.target.txt into /content/test_data.txt.\n"
          ]
        }
      ]
    },
    {
      "cell_type": "code",
      "source": [
        "import pandas as pd\n",
        "train_data = pd.read_csv('/content/training_data.txt', delimiter='\\t')\n",
        "test_data=pd.read_csv('/content/test_data.txt',delimiter='\\t')"
      ],
      "metadata": {
        "id": "px2XCsVVSDvp"
      },
      "execution_count": 4,
      "outputs": []
    },
    {
      "cell_type": "code",
      "source": [
        "label_mapping={'anger':0,'fear':1,'joy':2,'sadness':3}\n",
        "train_data['label']=train_data['label'].map(label_mapping)\n",
        "train_data.head()\n",
        "train_data.info()"
      ],
      "metadata": {
        "colab": {
          "base_uri": "https://localhost:8080/"
        },
        "id": "JN6fMwX6SFl8",
        "outputId": "06c05e9a-099b-446a-df32-b3ce2c7aaae3"
      },
      "execution_count": 5,
      "outputs": [
        {
          "output_type": "stream",
          "name": "stdout",
          "text": [
            "<class 'pandas.core.frame.DataFrame'>\n",
            "RangeIndex: 3609 entries, 0 to 3608\n",
            "Data columns (total 4 columns):\n",
            " #   Column     Non-Null Count  Dtype  \n",
            "---  ------     --------------  -----  \n",
            " 0   id         3609 non-null   int64  \n",
            " 1   tweet      3609 non-null   object \n",
            " 2   label      3609 non-null   int64  \n",
            " 3   intensity  3609 non-null   float64\n",
            "dtypes: float64(1), int64(2), object(1)\n",
            "memory usage: 112.9+ KB\n"
          ]
        }
      ]
    },
    {
      "cell_type": "code",
      "source": [
        "test_data=test_data.drop(columns=['intensity'])"
      ],
      "metadata": {
        "id": "OlGuoueqSHqi"
      },
      "execution_count": 6,
      "outputs": []
    },
    {
      "cell_type": "code",
      "source": [
        "!pip install neattext\n",
        "import neattext.functions as nfx\n",
        "train_data['clean_text']= train_data['tweet'].apply(nfx.remove_userhandles)\n",
        "train_data['clean_text']=train_data['clean_text'].apply(nfx.remove_hashtags)\n",
        "train_data['clean_text']=train_data['clean_text'].apply(nfx.remove_stopwords)\n",
        "train_data['clean_text']=train_data['clean_text'].apply(nfx.remove_emojis)\n",
        "train_data['clean_text']=train_data['clean_text'].apply(nfx.remove_punctuations)\n",
        "train_data['clean_text'] = train_data['clean_text'].apply(lambda x: x.lower())\n",
        "train_data.head()"
      ],
      "metadata": {
        "colab": {
          "base_uri": "https://localhost:8080/",
          "height": 298
        },
        "id": "bvPVTZ0qSJRn",
        "outputId": "e811048f-8739-4379-84b9-82ed6b4f1246"
      },
      "execution_count": 7,
      "outputs": [
        {
          "output_type": "stream",
          "name": "stdout",
          "text": [
            "Collecting neattext\n",
            "  Downloading neattext-0.1.3-py3-none-any.whl (114 kB)\n",
            "\u001b[2K     \u001b[90m━━━━━━━━━━━━━━━━━━━━━━━━━━━━━━━━━━━━━━━━\u001b[0m \u001b[32m114.7/114.7 kB\u001b[0m \u001b[31m2.6 MB/s\u001b[0m eta \u001b[36m0:00:00\u001b[0m\n",
            "\u001b[?25hInstalling collected packages: neattext\n",
            "Successfully installed neattext-0.1.3\n"
          ]
        },
        {
          "output_type": "execute_result",
          "data": {
            "text/plain": [
              "      id                                              tweet  label  intensity  \\\n",
              "0  10001  So my Indian Uber driver just called someone t...      0      0.896   \n",
              "1  10002  @DPD_UK I asked for my parcel to be delivered ...      0      0.896   \n",
              "2  10003  so ef whichever butt wipe pulled the fire alar...      0      0.896   \n",
              "3  10004  Don't join @BTCare they put the phone down on ...      0      0.896   \n",
              "4  10005                                My blood is boiling      0      0.875   \n",
              "\n",
              "                                          clean_text  \n",
              "0  indian uber driver called n word moving vehicl...  \n",
              "1          asked parcel delivered pick store address  \n",
              "2  ef whichever butt wipe pulled fire alarm davis...  \n",
              "3  join phone you talk rude taking money acc will...  \n",
              "4                                      blood boiling  "
            ],
            "text/html": [
              "\n",
              "  <div id=\"df-ac2f14a7-03c7-43a6-a582-11fbd6dba6ae\" class=\"colab-df-container\">\n",
              "    <div>\n",
              "<style scoped>\n",
              "    .dataframe tbody tr th:only-of-type {\n",
              "        vertical-align: middle;\n",
              "    }\n",
              "\n",
              "    .dataframe tbody tr th {\n",
              "        vertical-align: top;\n",
              "    }\n",
              "\n",
              "    .dataframe thead th {\n",
              "        text-align: right;\n",
              "    }\n",
              "</style>\n",
              "<table border=\"1\" class=\"dataframe\">\n",
              "  <thead>\n",
              "    <tr style=\"text-align: right;\">\n",
              "      <th></th>\n",
              "      <th>id</th>\n",
              "      <th>tweet</th>\n",
              "      <th>label</th>\n",
              "      <th>intensity</th>\n",
              "      <th>clean_text</th>\n",
              "    </tr>\n",
              "  </thead>\n",
              "  <tbody>\n",
              "    <tr>\n",
              "      <th>0</th>\n",
              "      <td>10001</td>\n",
              "      <td>So my Indian Uber driver just called someone t...</td>\n",
              "      <td>0</td>\n",
              "      <td>0.896</td>\n",
              "      <td>indian uber driver called n word moving vehicl...</td>\n",
              "    </tr>\n",
              "    <tr>\n",
              "      <th>1</th>\n",
              "      <td>10002</td>\n",
              "      <td>@DPD_UK I asked for my parcel to be delivered ...</td>\n",
              "      <td>0</td>\n",
              "      <td>0.896</td>\n",
              "      <td>asked parcel delivered pick store address</td>\n",
              "    </tr>\n",
              "    <tr>\n",
              "      <th>2</th>\n",
              "      <td>10003</td>\n",
              "      <td>so ef whichever butt wipe pulled the fire alar...</td>\n",
              "      <td>0</td>\n",
              "      <td>0.896</td>\n",
              "      <td>ef whichever butt wipe pulled fire alarm davis...</td>\n",
              "    </tr>\n",
              "    <tr>\n",
              "      <th>3</th>\n",
              "      <td>10004</td>\n",
              "      <td>Don't join @BTCare they put the phone down on ...</td>\n",
              "      <td>0</td>\n",
              "      <td>0.896</td>\n",
              "      <td>join phone you talk rude taking money acc will...</td>\n",
              "    </tr>\n",
              "    <tr>\n",
              "      <th>4</th>\n",
              "      <td>10005</td>\n",
              "      <td>My blood is boiling</td>\n",
              "      <td>0</td>\n",
              "      <td>0.875</td>\n",
              "      <td>blood boiling</td>\n",
              "    </tr>\n",
              "  </tbody>\n",
              "</table>\n",
              "</div>\n",
              "    <div class=\"colab-df-buttons\">\n",
              "\n",
              "  <div class=\"colab-df-container\">\n",
              "    <button class=\"colab-df-convert\" onclick=\"convertToInteractive('df-ac2f14a7-03c7-43a6-a582-11fbd6dba6ae')\"\n",
              "            title=\"Convert this dataframe to an interactive table.\"\n",
              "            style=\"display:none;\">\n",
              "\n",
              "  <svg xmlns=\"http://www.w3.org/2000/svg\" height=\"24px\" viewBox=\"0 -960 960 960\">\n",
              "    <path d=\"M120-120v-720h720v720H120Zm60-500h600v-160H180v160Zm220 220h160v-160H400v160Zm0 220h160v-160H400v160ZM180-400h160v-160H180v160Zm440 0h160v-160H620v160ZM180-180h160v-160H180v160Zm440 0h160v-160H620v160Z\"/>\n",
              "  </svg>\n",
              "    </button>\n",
              "\n",
              "  <style>\n",
              "    .colab-df-container {\n",
              "      display:flex;\n",
              "      gap: 12px;\n",
              "    }\n",
              "\n",
              "    .colab-df-convert {\n",
              "      background-color: #E8F0FE;\n",
              "      border: none;\n",
              "      border-radius: 50%;\n",
              "      cursor: pointer;\n",
              "      display: none;\n",
              "      fill: #1967D2;\n",
              "      height: 32px;\n",
              "      padding: 0 0 0 0;\n",
              "      width: 32px;\n",
              "    }\n",
              "\n",
              "    .colab-df-convert:hover {\n",
              "      background-color: #E2EBFA;\n",
              "      box-shadow: 0px 1px 2px rgba(60, 64, 67, 0.3), 0px 1px 3px 1px rgba(60, 64, 67, 0.15);\n",
              "      fill: #174EA6;\n",
              "    }\n",
              "\n",
              "    .colab-df-buttons div {\n",
              "      margin-bottom: 4px;\n",
              "    }\n",
              "\n",
              "    [theme=dark] .colab-df-convert {\n",
              "      background-color: #3B4455;\n",
              "      fill: #D2E3FC;\n",
              "    }\n",
              "\n",
              "    [theme=dark] .colab-df-convert:hover {\n",
              "      background-color: #434B5C;\n",
              "      box-shadow: 0px 1px 3px 1px rgba(0, 0, 0, 0.15);\n",
              "      filter: drop-shadow(0px 1px 2px rgba(0, 0, 0, 0.3));\n",
              "      fill: #FFFFFF;\n",
              "    }\n",
              "  </style>\n",
              "\n",
              "    <script>\n",
              "      const buttonEl =\n",
              "        document.querySelector('#df-ac2f14a7-03c7-43a6-a582-11fbd6dba6ae button.colab-df-convert');\n",
              "      buttonEl.style.display =\n",
              "        google.colab.kernel.accessAllowed ? 'block' : 'none';\n",
              "\n",
              "      async function convertToInteractive(key) {\n",
              "        const element = document.querySelector('#df-ac2f14a7-03c7-43a6-a582-11fbd6dba6ae');\n",
              "        const dataTable =\n",
              "          await google.colab.kernel.invokeFunction('convertToInteractive',\n",
              "                                                    [key], {});\n",
              "        if (!dataTable) return;\n",
              "\n",
              "        const docLinkHtml = 'Like what you see? Visit the ' +\n",
              "          '<a target=\"_blank\" href=https://colab.research.google.com/notebooks/data_table.ipynb>data table notebook</a>'\n",
              "          + ' to learn more about interactive tables.';\n",
              "        element.innerHTML = '';\n",
              "        dataTable['output_type'] = 'display_data';\n",
              "        await google.colab.output.renderOutput(dataTable, element);\n",
              "        const docLink = document.createElement('div');\n",
              "        docLink.innerHTML = docLinkHtml;\n",
              "        element.appendChild(docLink);\n",
              "      }\n",
              "    </script>\n",
              "  </div>\n",
              "\n",
              "\n",
              "<div id=\"df-0f05e47f-bc21-432f-9a67-d3c6cd59d6f7\">\n",
              "  <button class=\"colab-df-quickchart\" onclick=\"quickchart('df-0f05e47f-bc21-432f-9a67-d3c6cd59d6f7')\"\n",
              "            title=\"Suggest charts\"\n",
              "            style=\"display:none;\">\n",
              "\n",
              "<svg xmlns=\"http://www.w3.org/2000/svg\" height=\"24px\"viewBox=\"0 0 24 24\"\n",
              "     width=\"24px\">\n",
              "    <g>\n",
              "        <path d=\"M19 3H5c-1.1 0-2 .9-2 2v14c0 1.1.9 2 2 2h14c1.1 0 2-.9 2-2V5c0-1.1-.9-2-2-2zM9 17H7v-7h2v7zm4 0h-2V7h2v10zm4 0h-2v-4h2v4z\"/>\n",
              "    </g>\n",
              "</svg>\n",
              "  </button>\n",
              "\n",
              "<style>\n",
              "  .colab-df-quickchart {\n",
              "      --bg-color: #E8F0FE;\n",
              "      --fill-color: #1967D2;\n",
              "      --hover-bg-color: #E2EBFA;\n",
              "      --hover-fill-color: #174EA6;\n",
              "      --disabled-fill-color: #AAA;\n",
              "      --disabled-bg-color: #DDD;\n",
              "  }\n",
              "\n",
              "  [theme=dark] .colab-df-quickchart {\n",
              "      --bg-color: #3B4455;\n",
              "      --fill-color: #D2E3FC;\n",
              "      --hover-bg-color: #434B5C;\n",
              "      --hover-fill-color: #FFFFFF;\n",
              "      --disabled-bg-color: #3B4455;\n",
              "      --disabled-fill-color: #666;\n",
              "  }\n",
              "\n",
              "  .colab-df-quickchart {\n",
              "    background-color: var(--bg-color);\n",
              "    border: none;\n",
              "    border-radius: 50%;\n",
              "    cursor: pointer;\n",
              "    display: none;\n",
              "    fill: var(--fill-color);\n",
              "    height: 32px;\n",
              "    padding: 0;\n",
              "    width: 32px;\n",
              "  }\n",
              "\n",
              "  .colab-df-quickchart:hover {\n",
              "    background-color: var(--hover-bg-color);\n",
              "    box-shadow: 0 1px 2px rgba(60, 64, 67, 0.3), 0 1px 3px 1px rgba(60, 64, 67, 0.15);\n",
              "    fill: var(--button-hover-fill-color);\n",
              "  }\n",
              "\n",
              "  .colab-df-quickchart-complete:disabled,\n",
              "  .colab-df-quickchart-complete:disabled:hover {\n",
              "    background-color: var(--disabled-bg-color);\n",
              "    fill: var(--disabled-fill-color);\n",
              "    box-shadow: none;\n",
              "  }\n",
              "\n",
              "  .colab-df-spinner {\n",
              "    border: 2px solid var(--fill-color);\n",
              "    border-color: transparent;\n",
              "    border-bottom-color: var(--fill-color);\n",
              "    animation:\n",
              "      spin 1s steps(1) infinite;\n",
              "  }\n",
              "\n",
              "  @keyframes spin {\n",
              "    0% {\n",
              "      border-color: transparent;\n",
              "      border-bottom-color: var(--fill-color);\n",
              "      border-left-color: var(--fill-color);\n",
              "    }\n",
              "    20% {\n",
              "      border-color: transparent;\n",
              "      border-left-color: var(--fill-color);\n",
              "      border-top-color: var(--fill-color);\n",
              "    }\n",
              "    30% {\n",
              "      border-color: transparent;\n",
              "      border-left-color: var(--fill-color);\n",
              "      border-top-color: var(--fill-color);\n",
              "      border-right-color: var(--fill-color);\n",
              "    }\n",
              "    40% {\n",
              "      border-color: transparent;\n",
              "      border-right-color: var(--fill-color);\n",
              "      border-top-color: var(--fill-color);\n",
              "    }\n",
              "    60% {\n",
              "      border-color: transparent;\n",
              "      border-right-color: var(--fill-color);\n",
              "    }\n",
              "    80% {\n",
              "      border-color: transparent;\n",
              "      border-right-color: var(--fill-color);\n",
              "      border-bottom-color: var(--fill-color);\n",
              "    }\n",
              "    90% {\n",
              "      border-color: transparent;\n",
              "      border-bottom-color: var(--fill-color);\n",
              "    }\n",
              "  }\n",
              "</style>\n",
              "\n",
              "  <script>\n",
              "    async function quickchart(key) {\n",
              "      const quickchartButtonEl =\n",
              "        document.querySelector('#' + key + ' button');\n",
              "      quickchartButtonEl.disabled = true;  // To prevent multiple clicks.\n",
              "      quickchartButtonEl.classList.add('colab-df-spinner');\n",
              "      try {\n",
              "        const charts = await google.colab.kernel.invokeFunction(\n",
              "            'suggestCharts', [key], {});\n",
              "      } catch (error) {\n",
              "        console.error('Error during call to suggestCharts:', error);\n",
              "      }\n",
              "      quickchartButtonEl.classList.remove('colab-df-spinner');\n",
              "      quickchartButtonEl.classList.add('colab-df-quickchart-complete');\n",
              "    }\n",
              "    (() => {\n",
              "      let quickchartButtonEl =\n",
              "        document.querySelector('#df-0f05e47f-bc21-432f-9a67-d3c6cd59d6f7 button');\n",
              "      quickchartButtonEl.style.display =\n",
              "        google.colab.kernel.accessAllowed ? 'block' : 'none';\n",
              "    })();\n",
              "  </script>\n",
              "</div>\n",
              "\n",
              "    </div>\n",
              "  </div>\n"
            ],
            "application/vnd.google.colaboratory.intrinsic+json": {
              "type": "dataframe",
              "variable_name": "train_data",
              "summary": "{\n  \"name\": \"train_data\",\n  \"rows\": 3609,\n  \"fields\": [\n    {\n      \"column\": \"id\",\n      \"properties\": {\n        \"dtype\": \"number\",\n        \"std\": 10715,\n        \"min\": 10001,\n        \"max\": 40785,\n        \"num_unique_values\": 3609,\n        \"samples\": [\n          40208,\n          30193,\n          30030\n        ],\n        \"semantic_type\": \"\",\n        \"description\": \"\"\n      }\n    },\n    {\n      \"column\": \"tweet\",\n      \"properties\": {\n        \"dtype\": \"string\",\n        \"num_unique_values\": 3561,\n        \"samples\": [\n          \"@Ren102e906 Just do what you can, don't get discouraged, maybe some prayers for divine intervention to help you would help :)\",\n          \"Why are people that don't have iPhones so bitter about iPhones???? Can someone explain\",\n          \"It's better to be wetter than it is to be dry' jesus christ Val don't be shy hen \\ud83d\\ude02\\ud83d\\ude02 #GBBO\"\n        ],\n        \"semantic_type\": \"\",\n        \"description\": \"\"\n      }\n    },\n    {\n      \"column\": \"label\",\n      \"properties\": {\n        \"dtype\": \"number\",\n        \"std\": 1,\n        \"min\": 0,\n        \"max\": 3,\n        \"num_unique_values\": 4,\n        \"samples\": [\n          1,\n          3,\n          0\n        ],\n        \"semantic_type\": \"\",\n        \"description\": \"\"\n      }\n    },\n    {\n      \"column\": \"intensity\",\n      \"properties\": {\n        \"dtype\": \"number\",\n        \"std\": 0.18983168773376094,\n        \"min\": 0.019,\n        \"max\": 0.979,\n        \"num_unique_values\": 402,\n        \"samples\": [\n          0.607,\n          0.656,\n          0.578\n        ],\n        \"semantic_type\": \"\",\n        \"description\": \"\"\n      }\n    },\n    {\n      \"column\": \"clean_text\",\n      \"properties\": {\n        \"dtype\": \"string\",\n        \"num_unique_values\": 2974,\n        \"samples\": [\n          \"story life\",\n          \"wonder guy broke penis sex\",\n          \"wrong thisneeded levity recording\"\n        ],\n        \"semantic_type\": \"\",\n        \"description\": \"\"\n      }\n    }\n  ]\n}"
            }
          },
          "metadata": {},
          "execution_count": 7
        }
      ]
    },
    {
      "cell_type": "code",
      "source": [
        "test_data['clean_text']=test_data['tweet'].apply(nfx.remove_userhandles)\n",
        "test_data['clean_text']=test_data['clean_text'].apply(nfx.remove_hashtags)\n",
        "test_data['clean_text']=test_data['clean_text'].apply(nfx.remove_stopwords)\n",
        "test_data['clean_text']=test_data['clean_text'].apply(nfx.remove_emojis)\n",
        "test_data['clean_text']=test_data['clean_text'].apply(nfx.remove_punctuations)\n",
        "test_data['clean_text']=test_data['clean_text'].apply(lambda x: x.lower())\n"
      ],
      "metadata": {
        "id": "dc2vj4xnSLVk"
      },
      "execution_count": 8,
      "outputs": []
    },
    {
      "cell_type": "code",
      "source": [
        "from sklearn.preprocessing import LabelEncoder\n",
        "label_encoder = LabelEncoder()\n",
        "train_data['encoded_labels'] = label_encoder.fit_transform(train_data['label'])\n",
        "test_data['encoded_labels']=label_encoder.fit_transform(test_data['label'])"
      ],
      "metadata": {
        "id": "YvzdXBPsSM5C"
      },
      "execution_count": 9,
      "outputs": []
    },
    {
      "cell_type": "code",
      "source": [
        "x_train=train_data.clean_text\n",
        "y_train=train_data.label\n",
        "x_test=test_data.clean_text\n",
        "y_test=test_data.label"
      ],
      "metadata": {
        "id": "lUwEBSvdSO71"
      },
      "execution_count": 10,
      "outputs": []
    },
    {
      "cell_type": "code",
      "source": [
        "from tensorflow.keras.preprocessing.text import Tokenizer\n",
        "from tensorflow.keras.preprocessing.sequence import pad_sequences\n",
        "top_words = 6000\n",
        "tokenizer = Tokenizer(num_words=top_words)\n",
        "tokenizer.fit_on_texts(x_train)\n",
        "list_tokenized_train = tokenizer.texts_to_sequences(x_train)\n",
        "\n",
        "max_review_length = 130\n",
        "X_train = pad_sequences(list_tokenized_train, maxlen=max_review_length)\n",
        "\n"
      ],
      "metadata": {
        "id": "zbngjguDSSkg"
      },
      "execution_count": 14,
      "outputs": []
    },
    {
      "cell_type": "code",
      "source": [
        "y_train.classes"
      ],
      "metadata": {
        "colab": {
          "base_uri": "https://localhost:8080/",
          "height": 276
        },
        "id": "2z2jzNHqDfET",
        "outputId": "bcb12bcc-25a1-47d7-d4a5-95a8d9525877"
      },
      "execution_count": 19,
      "outputs": [
        {
          "output_type": "error",
          "ename": "AttributeError",
          "evalue": "'Series' object has no attribute 'classes'",
          "traceback": [
            "\u001b[0;31m---------------------------------------------------------------------------\u001b[0m",
            "\u001b[0;31mAttributeError\u001b[0m                            Traceback (most recent call last)",
            "\u001b[0;32m<ipython-input-19-76e6c8897b4d>\u001b[0m in \u001b[0;36m<cell line: 1>\u001b[0;34m()\u001b[0m\n\u001b[0;32m----> 1\u001b[0;31m \u001b[0my_train\u001b[0m\u001b[0;34m.\u001b[0m\u001b[0mclasses\u001b[0m\u001b[0;34m\u001b[0m\u001b[0;34m\u001b[0m\u001b[0m\n\u001b[0m",
            "\u001b[0;32m/usr/local/lib/python3.10/dist-packages/pandas/core/generic.py\u001b[0m in \u001b[0;36m__getattr__\u001b[0;34m(self, name)\u001b[0m\n\u001b[1;32m   5900\u001b[0m         ):\n\u001b[1;32m   5901\u001b[0m             \u001b[0;32mreturn\u001b[0m \u001b[0mself\u001b[0m\u001b[0;34m[\u001b[0m\u001b[0mname\u001b[0m\u001b[0;34m]\u001b[0m\u001b[0;34m\u001b[0m\u001b[0;34m\u001b[0m\u001b[0m\n\u001b[0;32m-> 5902\u001b[0;31m         \u001b[0;32mreturn\u001b[0m \u001b[0mobject\u001b[0m\u001b[0;34m.\u001b[0m\u001b[0m__getattribute__\u001b[0m\u001b[0;34m(\u001b[0m\u001b[0mself\u001b[0m\u001b[0;34m,\u001b[0m \u001b[0mname\u001b[0m\u001b[0;34m)\u001b[0m\u001b[0;34m\u001b[0m\u001b[0;34m\u001b[0m\u001b[0m\n\u001b[0m\u001b[1;32m   5903\u001b[0m \u001b[0;34m\u001b[0m\u001b[0m\n\u001b[1;32m   5904\u001b[0m     \u001b[0;32mdef\u001b[0m \u001b[0m__setattr__\u001b[0m\u001b[0;34m(\u001b[0m\u001b[0mself\u001b[0m\u001b[0;34m,\u001b[0m \u001b[0mname\u001b[0m\u001b[0;34m:\u001b[0m \u001b[0mstr\u001b[0m\u001b[0;34m,\u001b[0m \u001b[0mvalue\u001b[0m\u001b[0;34m)\u001b[0m \u001b[0;34m->\u001b[0m \u001b[0;32mNone\u001b[0m\u001b[0;34m:\u001b[0m\u001b[0;34m\u001b[0m\u001b[0;34m\u001b[0m\u001b[0m\n",
            "\u001b[0;31mAttributeError\u001b[0m: 'Series' object has no attribute 'classes'"
          ]
        }
      ]
    },
    {
      "cell_type": "code",
      "source": [
        "from tensorflow.keras.models import Sequential\n",
        "from tensorflow.keras.layers import Embedding, LSTM, Dense, Concatenate\n",
        "from sklearn.preprocessing import StandardScaler\n",
        "embedding_vecor_length = 32\n",
        "model = Sequential()\n",
        "model.add(Embedding(top_words+1, embedding_vecor_length, input_length=max_review_length))\n",
        "model.add(LSTM(100))\n",
        "model.add(Dense(1, activation='sigmoid'))\n",
        "model.compile(loss='binary_crossentropy', optimizer='adam', metrics=['accuracy'])\n",
        "model.summary()"
      ],
      "metadata": {
        "colab": {
          "base_uri": "https://localhost:8080/"
        },
        "id": "RfADywIxSUwK",
        "outputId": "f061d21f-0272-4709-9670-631b3f264187"
      },
      "execution_count": 22,
      "outputs": [
        {
          "output_type": "stream",
          "name": "stdout",
          "text": [
            "Model: \"sequential_3\"\n",
            "_________________________________________________________________\n",
            " Layer (type)                Output Shape              Param #   \n",
            "=================================================================\n",
            " embedding_3 (Embedding)     (None, 130, 32)           192032    \n",
            "                                                                 \n",
            " lstm_3 (LSTM)               (None, 100)               53200     \n",
            "                                                                 \n",
            " dense_3 (Dense)             (None, 1)                 101       \n",
            "                                                                 \n",
            "=================================================================\n",
            "Total params: 245333 (958.33 KB)\n",
            "Trainable params: 245333 (958.33 KB)\n",
            "Non-trainable params: 0 (0.00 Byte)\n",
            "_________________________________________________________________\n"
          ]
        }
      ]
    },
    {
      "cell_type": "code",
      "source": [
        "model.fit(X_train,y_train, epochs=25, batch_size=64, validation_split=0.2)"
      ],
      "metadata": {
        "id": "39N0hWNLTTDr",
        "outputId": "f79e051f-d8a8-455e-da9b-886736ee4822",
        "colab": {
          "base_uri": "https://localhost:8080/"
        }
      },
      "execution_count": 23,
      "outputs": [
        {
          "output_type": "stream",
          "name": "stdout",
          "text": [
            "Epoch 1/25\n",
            "46/46 [==============================] - 11s 181ms/step - loss: -0.0296 - accuracy: 0.3956 - val_loss: -19.1944 - val_accuracy: 0.0000e+00\n",
            "Epoch 2/25\n",
            "46/46 [==============================] - 8s 181ms/step - loss: -0.3767 - accuracy: 0.3970 - val_loss: -26.3393 - val_accuracy: 0.0000e+00\n",
            "Epoch 3/25\n",
            "46/46 [==============================] - 9s 205ms/step - loss: -0.4913 - accuracy: 0.3970 - val_loss: -30.5975 - val_accuracy: 0.0000e+00\n",
            "Epoch 4/25\n",
            "46/46 [==============================] - 7s 156ms/step - loss: -0.6151 - accuracy: 0.3970 - val_loss: -30.9256 - val_accuracy: 0.0000e+00\n",
            "Epoch 5/25\n",
            "46/46 [==============================] - 8s 180ms/step - loss: -1.5040 - accuracy: 0.3970 - val_loss: -20.9036 - val_accuracy: 0.0000e+00\n",
            "Epoch 6/25\n",
            "46/46 [==============================] - 8s 179ms/step - loss: -4.1669 - accuracy: 0.4396 - val_loss: -17.1192 - val_accuracy: 0.0000e+00\n",
            "Epoch 7/25\n",
            "46/46 [==============================] - 7s 157ms/step - loss: -6.6897 - accuracy: 0.5265 - val_loss: -40.1463 - val_accuracy: 0.0000e+00\n",
            "Epoch 8/25\n",
            "46/46 [==============================] - 8s 180ms/step - loss: -10.5528 - accuracy: 0.6245 - val_loss: -52.6483 - val_accuracy: 0.0000e+00\n",
            "Epoch 9/25\n",
            "46/46 [==============================] - 8s 167ms/step - loss: -13.3494 - accuracy: 0.6557 - val_loss: -64.8846 - val_accuracy: 0.0000e+00\n",
            "Epoch 10/25\n",
            "46/46 [==============================] - 8s 167ms/step - loss: -15.6490 - accuracy: 0.6689 - val_loss: -72.9504 - val_accuracy: 0.0000e+00\n",
            "Epoch 11/25\n",
            "46/46 [==============================] - 8s 182ms/step - loss: -17.8334 - accuracy: 0.6699 - val_loss: -81.7447 - val_accuracy: 0.0000e+00\n",
            "Epoch 12/25\n",
            "46/46 [==============================] - 7s 158ms/step - loss: -19.9408 - accuracy: 0.6772 - val_loss: -92.7336 - val_accuracy: 0.0000e+00\n",
            "Epoch 13/25\n",
            "46/46 [==============================] - 8s 181ms/step - loss: -21.8969 - accuracy: 0.6793 - val_loss: -85.1367 - val_accuracy: 0.0000e+00\n",
            "Epoch 14/25\n",
            "46/46 [==============================] - 8s 182ms/step - loss: -23.6703 - accuracy: 0.6831 - val_loss: -110.9162 - val_accuracy: 0.0000e+00\n",
            "Epoch 15/25\n",
            "46/46 [==============================] - 7s 157ms/step - loss: -25.4853 - accuracy: 0.6831 - val_loss: -104.0656 - val_accuracy: 0.0000e+00\n",
            "Epoch 16/25\n",
            "46/46 [==============================] - 8s 182ms/step - loss: -26.8894 - accuracy: 0.6779 - val_loss: -116.8022 - val_accuracy: 0.0000e+00\n",
            "Epoch 17/25\n",
            "46/46 [==============================] - 8s 180ms/step - loss: -28.8400 - accuracy: 0.6803 - val_loss: -123.8724 - val_accuracy: 0.0000e+00\n",
            "Epoch 18/25\n",
            "46/46 [==============================] - 7s 157ms/step - loss: -30.5276 - accuracy: 0.6855 - val_loss: -142.7197 - val_accuracy: 0.0000e+00\n",
            "Epoch 19/25\n",
            "46/46 [==============================] - 8s 181ms/step - loss: -32.2270 - accuracy: 0.6858 - val_loss: -153.2917 - val_accuracy: 0.0000e+00\n",
            "Epoch 20/25\n",
            "46/46 [==============================] - 8s 172ms/step - loss: -33.8703 - accuracy: 0.6865 - val_loss: -165.5278 - val_accuracy: 0.0000e+00\n",
            "Epoch 21/25\n",
            "46/46 [==============================] - 9s 187ms/step - loss: -35.3641 - accuracy: 0.6869 - val_loss: -164.4458 - val_accuracy: 0.0000e+00\n",
            "Epoch 22/25\n",
            "46/46 [==============================] - 8s 180ms/step - loss: -37.0094 - accuracy: 0.6886 - val_loss: -168.6073 - val_accuracy: 0.0000e+00\n",
            "Epoch 23/25\n",
            "46/46 [==============================] - 8s 174ms/step - loss: -38.5075 - accuracy: 0.6890 - val_loss: -186.8976 - val_accuracy: 0.0000e+00\n",
            "Epoch 24/25\n",
            "46/46 [==============================] - 7s 159ms/step - loss: -40.0638 - accuracy: 0.6886 - val_loss: -192.2969 - val_accuracy: 0.0000e+00\n",
            "Epoch 25/25\n",
            "46/46 [==============================] - 8s 180ms/step - loss: -41.5705 - accuracy: 0.6886 - val_loss: -187.5968 - val_accuracy: 0.0000e+00\n"
          ]
        },
        {
          "output_type": "execute_result",
          "data": {
            "text/plain": [
              "<keras.src.callbacks.History at 0x7eaee56ffb80>"
            ]
          },
          "metadata": {},
          "execution_count": 23
        }
      ]
    }
  ]
}